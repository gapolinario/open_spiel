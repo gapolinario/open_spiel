{
 "cells": [
  {
   "cell_type": "code",
   "execution_count": 1,
   "id": "483bb5d7",
   "metadata": {},
   "outputs": [
    {
     "name": "stdout",
     "output_type": "stream",
     "text": [
      "['2048', 'add_noise', 'amazons', 'backgammon', 'bargaining', 'battleship', 'blackjack', 'blotto', 'breakthrough', 'bridge', 'bridge_uncontested_bidding', 'catch', 'checkers', 'chess', 'cliff_walking', 'clobber', 'coin_game', 'colored_trails', 'connect_four', 'coop_box_pushing', 'coop_to_1p', 'coordinated_mp', 'crazy_eights', 'cursor_go', 'dark_chess', 'dark_hex', 'dark_hex_ir', 'deep_sea', 'dou_dizhu', 'efg_game', 'euchre', 'first_sealed_auction', 'gin_rummy', 'go', 'goofspiel', 'havannah', 'hearts', 'hex', 'kriegspiel', 'kuhn_poker', 'laser_tag', 'leduc_poker', 'lewis_signaling', 'liars_dice', 'liars_dice_ir', 'maedn', 'mancala', 'markov_soccer', 'matching_pennies_3p', 'matrix_bos', 'matrix_brps', 'matrix_cd', 'matrix_coordination', 'matrix_mp', 'matrix_pd', 'matrix_rps', 'matrix_rpsw', 'matrix_sh', 'matrix_shapleys_game', 'mfg_crowd_modelling', 'mfg_crowd_modelling_2d', 'mfg_dynamic_routing', 'mfg_garnet', 'misere', 'morpion_solitaire', 'negotiation', 'nfg_game', 'nim', 'nine_mens_morris', 'normal_form_extensive_game', 'oh_hell', 'oshi_zumo', 'othello', 'oware', 'pathfinding', 'pentago', 'phantom_go', 'phantom_ttt', 'phantom_ttt_ir', 'pig', 'quoridor', 'rbc', 'repeated_game', 'restricted_nash_response', 'sheriff', 'skat', 'solitaire', 'start_at', 'stones_and_gems', 'tarok', 'tic_tac_toe', 'tiny_bridge_2p', 'tiny_bridge_4p', 'tiny_hanabi', 'trade_comm', 'turn_based_simultaneous_game', 'ultimate_tic_tac_toe', 'y', 'zerosum']\n"
     ]
    }
   ],
   "source": [
    "# Importing pyspiel and showing the list of supported games\n",
    "import pyspiel\n",
    "print(pyspiel.registered_names())"
   ]
  },
  {
   "cell_type": "code",
   "execution_count": 3,
   "id": "bfc70707",
   "metadata": {},
   "outputs": [
    {
     "name": "stdout",
     "output_type": "stream",
     "text": [
      "solitaire()\n"
     ]
    }
   ],
   "source": [
    "# Loading a game (with no/default parameters)\n",
    "game=pyspiel.load_game(\"solitaire\")\n",
    "print(game)"
   ]
  },
  {
   "cell_type": "code",
   "execution_count": 4,
   "id": "72908ac8",
   "metadata": {},
   "outputs": [
    {
     "name": "stdout",
     "output_type": "stream",
     "text": [
      "1\n",
      "3220.0\n",
      "0.0\n",
      "205\n"
     ]
    }
   ],
   "source": [
    "# Some properties of the games\n",
    "print(game.num_players())\n",
    "print(game.max_utility())\n",
    "print(game.min_utility())\n",
    "print(game.num_distinct_actions())"
   ]
  },
  {
   "cell_type": "code",
   "execution_count": 9,
   "id": "bbf59bb1",
   "metadata": {},
   "outputs": [
    {
     "name": "stdout",
     "output_type": "stream",
     "text": [
      "WASTE       : 🂠  🂠  🂠  🂠  🂠  🂠  🂠  🂠  🂠  🂠  🂠  🂠  🂠  🂠  🂠  🂠  🂠  🂠  🂠  🂠  🂠  🂠  🂠  🂠  \n",
      "FOUNDATIONS : ♠ ♥ ♣ ♦ \n",
      "TABLEAUS    : \n",
      "🂠  \n",
      "🂠  🂠  \n",
      "🂠  🂠  🂠  \n",
      "🂠  🂠  🂠  🂠  \n",
      "🂠  🂠  🂠  🂠  🂠  \n",
      "🂠  🂠  🂠  🂠  🂠  🂠  \n",
      "🂠  🂠  🂠  🂠  🂠  🂠  🂠  \n",
      "TARGETS : ♠ ♥ ♣ ♦ \n",
      "SOURCES : \n"
     ]
    }
   ],
   "source": [
    "# Creating initial states\n",
    "state = game.new_initial_state()\n",
    "print(state)"
   ]
  },
  {
   "cell_type": "code",
   "execution_count": 10,
   "id": "db48ec58",
   "metadata": {},
   "outputs": [
    {
     "name": "stdout",
     "output_type": "stream",
     "text": [
      "-1\n",
      "False\n",
      "[0.0]\n",
      "[1, 2, 3, 4, 5, 6, 7, 8, 9, 10, 11, 12, 13, 14, 15, 16, 17, 18, 19, 20, 21, 22, 23, 24, 25, 26, 27, 28, 29, 30, 31, 32, 33, 34, 35, 36, 37, 38, 39, 40, 41, 42, 43, 44, 45, 46, 47, 48, 49, 50, 51, 52]\n"
     ]
    }
   ],
   "source": [
    "# Basic information about states\n",
    "print(state.current_player())\n",
    "print(state.is_terminal())\n",
    "print(state.returns())\n",
    "print(state.legal_actions())"
   ]
  },
  {
   "cell_type": "code",
   "execution_count": 11,
   "id": "bd78ecf3",
   "metadata": {},
   "outputs": [
    {
     "name": "stdout",
     "output_type": "stream",
     "text": [
      "WASTE       : 🂠  🂠  🂠  🂠  🂠  🂠  🂠  🂠  🂠  🂠  🂠  🂠  🂠  🂠  🂠  🂠  🂠  🂠  🂠  🂠  🂠  🂠  🂠  🂠  \n",
      "FOUNDATIONS : ♠ ♥ ♣ ♦ \n",
      "TABLEAUS    : \n",
      "A♠ \n",
      "🂠  🂠  \n",
      "🂠  🂠  🂠  \n",
      "🂠  🂠  🂠  🂠  \n",
      "🂠  🂠  🂠  🂠  🂠  \n",
      "🂠  🂠  🂠  🂠  🂠  🂠  \n",
      "🂠  🂠  🂠  🂠  🂠  🂠  🂠  \n",
      "TARGETS : A♠ ♠ ♥ ♣ ♦ \n",
      "SOURCES : A♠ \n",
      "-1\n",
      "[2, 3, 4, 5, 6, 7, 8, 9, 10, 11, 12, 13, 14, 15, 16, 17, 18, 19, 20, 21, 22, 23, 24, 25, 26, 27, 28, 29, 30, 31, 32, 33, 34, 35, 36, 37, 38, 39, 40, 41, 42, 43, 44, 45, 46, 47, 48, 49, 50, 51, 52]\n"
     ]
    }
   ],
   "source": [
    "# Playing the game: applying actions\n",
    "state.apply_action(1)\n",
    "print(state)\n",
    "print(state.current_player())\n",
    "print(state.legal_actions())"
   ]
  },
  {
   "cell_type": "code",
   "execution_count": 12,
   "id": "849ec512",
   "metadata": {},
   "outputs": [
    {
     "name": "stdout",
     "output_type": "stream",
     "text": [
      "WASTE       : 🂠  🂠  🂠  🂠  🂠  🂠  🂠  🂠  🂠  🂠  🂠  🂠  🂠  🂠  🂠  🂠  🂠  🂠  🂠  🂠  🂠  🂠  🂠  🂠  \n",
      "FOUNDATIONS : ♠ ♥ ♣ ♦ \n",
      "TABLEAUS    : \n",
      "A♠ \n",
      "🂠  2♠ \n",
      "🂠  🂠  🂠  \n",
      "🂠  🂠  🂠  🂠  \n",
      "🂠  🂠  🂠  🂠  🂠  \n",
      "🂠  🂠  🂠  🂠  🂠  🂠  \n",
      "🂠  🂠  🂠  🂠  🂠  🂠  🂠  \n",
      "TARGETS : A♠ 2♠ ♠ ♥ ♣ ♦ \n",
      "SOURCES : A♠ 2♠ \n",
      "-1\n",
      "[3, 4, 5, 6, 7, 8, 9, 10, 11, 12, 13, 14, 15, 16, 17, 18, 19, 20, 21, 22, 23, 24, 25, 26, 27, 28, 29, 30, 31, 32, 33, 34, 35, 36, 37, 38, 39, 40, 41, 42, 43, 44, 45, 46, 47, 48, 49, 50, 51, 52]\n"
     ]
    }
   ],
   "source": [
    "state.apply_action(2)\n",
    "print(state)\n",
    "print(state.current_player())\n",
    "print(state.legal_actions())"
   ]
  },
  {
   "cell_type": "code",
   "execution_count": 13,
   "id": "0fd922d7",
   "metadata": {},
   "outputs": [
    {
     "name": "stdout",
     "output_type": "stream",
     "text": [
      "WASTE       : 🂠  🂠  🂠  🂠  🂠  🂠  🂠  🂠  🂠  🂠  🂠  🂠  🂠  🂠  🂠  🂠  🂠  🂠  🂠  🂠  🂠  🂠  🂠  🂠  \n",
      "FOUNDATIONS : ♠ ♥ ♣ ♦ \n",
      "TABLEAUS    : \n",
      "A♠ \n",
      "🂠  2♠ \n",
      "🂠  🂠  3♠ \n",
      "🂠  🂠  🂠  🂠  \n",
      "🂠  🂠  🂠  🂠  🂠  \n",
      "🂠  🂠  🂠  🂠  🂠  🂠  \n",
      "🂠  🂠  🂠  🂠  🂠  🂠  🂠  \n",
      "TARGETS : A♠ 2♠ 3♠ ♠ ♥ ♣ ♦ \n",
      "SOURCES : A♠ 2♠ 3♠ \n",
      "-1\n",
      "[4, 5, 6, 7, 8, 9, 10, 11, 12, 13, 14, 15, 16, 17, 18, 19, 20, 21, 22, 23, 24, 25, 26, 27, 28, 29, 30, 31, 32, 33, 34, 35, 36, 37, 38, 39, 40, 41, 42, 43, 44, 45, 46, 47, 48, 49, 50, 51, 52]\n"
     ]
    }
   ],
   "source": [
    "# Playing the game: applying actions\n",
    "state.apply_action(3)\n",
    "print(state)\n",
    "print(state.current_player())\n",
    "print(state.legal_actions())"
   ]
  },
  {
   "cell_type": "code",
   "execution_count": 14,
   "id": "aa4bd06b",
   "metadata": {},
   "outputs": [
    {
     "name": "stdout",
     "output_type": "stream",
     "text": [
      "WASTE       : 🂠  🂠  🂠  🂠  🂠  🂠  🂠  🂠  🂠  🂠  🂠  🂠  🂠  🂠  🂠  🂠  🂠  🂠  🂠  🂠  🂠  🂠  🂠  🂠  \n",
      "FOUNDATIONS : ♠ ♥ ♣ ♦ \n",
      "TABLEAUS    : \n",
      "A♠ \n",
      "🂠  2♠ \n",
      "🂠  🂠  3♠ \n",
      "🂠  🂠  🂠  4♠ \n",
      "🂠  🂠  🂠  🂠  🂠  \n",
      "🂠  🂠  🂠  🂠  🂠  🂠  \n",
      "🂠  🂠  🂠  🂠  🂠  🂠  🂠  \n",
      "TARGETS : A♠ 2♠ 3♠ 4♠ ♠ ♥ ♣ ♦ \n",
      "SOURCES : A♠ 2♠ 3♠ 4♠ \n",
      "-1\n",
      "[5, 6, 7, 8, 9, 10, 11, 12, 13, 14, 15, 16, 17, 18, 19, 20, 21, 22, 23, 24, 25, 26, 27, 28, 29, 30, 31, 32, 33, 34, 35, 36, 37, 38, 39, 40, 41, 42, 43, 44, 45, 46, 47, 48, 49, 50, 51, 52]\n"
     ]
    }
   ],
   "source": [
    "# Playing the game: applying actions\n",
    "state.apply_action(4)\n",
    "print(state)\n",
    "print(state.current_player())\n",
    "print(state.legal_actions())"
   ]
  },
  {
   "cell_type": "code",
   "execution_count": 15,
   "id": "4f249d80",
   "metadata": {},
   "outputs": [
    {
     "name": "stdout",
     "output_type": "stream",
     "text": [
      "WASTE       : 🂠  🂠  🂠  🂠  🂠  🂠  🂠  🂠  🂠  🂠  🂠  🂠  🂠  🂠  🂠  🂠  🂠  🂠  🂠  🂠  🂠  🂠  🂠  🂠  \n",
      "FOUNDATIONS : ♠ ♥ ♣ ♦ \n",
      "TABLEAUS    : \n",
      "A♠ \n",
      "🂠  2♠ \n",
      "🂠  🂠  3♠ \n",
      "🂠  🂠  🂠  4♠ \n",
      "🂠  🂠  🂠  🂠  5♠ \n",
      "🂠  🂠  🂠  🂠  🂠  🂠  \n",
      "🂠  🂠  🂠  🂠  🂠  🂠  🂠  \n",
      "TARGETS : A♠ 2♠ 3♠ 4♠ 5♠ ♠ ♥ ♣ ♦ \n",
      "SOURCES : A♠ 2♠ 3♠ 4♠ 5♠ \n",
      "-1\n",
      "[6, 7, 8, 9, 10, 11, 12, 13, 14, 15, 16, 17, 18, 19, 20, 21, 22, 23, 24, 25, 26, 27, 28, 29, 30, 31, 32, 33, 34, 35, 36, 37, 38, 39, 40, 41, 42, 43, 44, 45, 46, 47, 48, 49, 50, 51, 52]\n"
     ]
    }
   ],
   "source": [
    "# Playing the game: applying actions\n",
    "state.apply_action(5)\n",
    "print(state)\n",
    "print(state.current_player())\n",
    "print(state.legal_actions())"
   ]
  },
  {
   "cell_type": "code",
   "execution_count": 16,
   "id": "5d66ab01",
   "metadata": {},
   "outputs": [
    {
     "name": "stdout",
     "output_type": "stream",
     "text": [
      "WASTE       : 🂠  🂠  🂠  🂠  🂠  🂠  🂠  🂠  🂠  🂠  🂠  🂠  🂠  🂠  🂠  🂠  🂠  🂠  🂠  🂠  🂠  🂠  🂠  🂠  \n",
      "FOUNDATIONS : ♠ ♥ ♣ ♦ \n",
      "TABLEAUS    : \n",
      "A♠ \n",
      "🂠  2♠ \n",
      "🂠  🂠  3♠ \n",
      "🂠  🂠  🂠  4♠ \n",
      "🂠  🂠  🂠  🂠  5♠ \n",
      "🂠  🂠  🂠  🂠  🂠  6♠ \n",
      "🂠  🂠  🂠  🂠  🂠  🂠  🂠  \n",
      "TARGETS : A♠ 2♠ 3♠ 4♠ 5♠ 6♠ ♠ ♥ ♣ ♦ \n",
      "SOURCES : A♠ 2♠ 3♠ 4♠ 5♠ 6♠ \n",
      "-1\n",
      "[7, 8, 9, 10, 11, 12, 13, 14, 15, 16, 17, 18, 19, 20, 21, 22, 23, 24, 25, 26, 27, 28, 29, 30, 31, 32, 33, 34, 35, 36, 37, 38, 39, 40, 41, 42, 43, 44, 45, 46, 47, 48, 49, 50, 51, 52]\n"
     ]
    }
   ],
   "source": [
    "# Playing the game: applying actions\n",
    "state.apply_action(6)\n",
    "print(state)\n",
    "print(state.current_player())\n",
    "print(state.legal_actions())"
   ]
  },
  {
   "cell_type": "code",
   "execution_count": 17,
   "id": "6aabde91",
   "metadata": {},
   "outputs": [
    {
     "name": "stdout",
     "output_type": "stream",
     "text": [
      "WASTE       : 🂠  🂠  🂠  🂠  🂠  🂠  🂠  🂠  🂠  🂠  🂠  🂠  🂠  🂠  🂠  🂠  🂠  🂠  🂠  🂠  🂠  🂠  🂠  🂠  \n",
      "FOUNDATIONS : ♠ ♥ ♣ ♦ \n",
      "TABLEAUS    : \n",
      "A♠ \n",
      "🂠  2♠ \n",
      "🂠  🂠  3♠ \n",
      "🂠  🂠  🂠  4♠ \n",
      "🂠  🂠  🂠  🂠  5♠ \n",
      "🂠  🂠  🂠  🂠  🂠  6♠ \n",
      "🂠  🂠  🂠  🂠  🂠  🂠  7♠ \n",
      "TARGETS : A♠ 2♠ 3♠ 4♠ 5♠ 6♠ 7♠ ♠ ♥ ♣ ♦ \n",
      "SOURCES : A♠ 2♠ 3♠ 4♠ 5♠ 6♠ 7♠ \n",
      "-1\n",
      "[8, 9, 10, 11, 12, 13, 14, 15, 16, 17, 18, 19, 20, 21, 22, 23, 24, 25, 26, 27, 28, 29, 30, 31, 32, 33, 34, 35, 36, 37, 38, 39, 40, 41, 42, 43, 44, 45, 46, 47, 48, 49, 50, 51, 52]\n"
     ]
    }
   ],
   "source": [
    "# Playing the game: applying actions\n",
    "state.apply_action(7)\n",
    "print(state)\n",
    "print(state.current_player())\n",
    "print(state.legal_actions())"
   ]
  },
  {
   "cell_type": "code",
   "execution_count": 18,
   "id": "dc189527",
   "metadata": {},
   "outputs": [
    {
     "name": "stdout",
     "output_type": "stream",
     "text": [
      "WASTE       : 8♠ 🂠  🂠  🂠  🂠  🂠  🂠  🂠  🂠  🂠  🂠  🂠  🂠  🂠  🂠  🂠  🂠  🂠  🂠  🂠  🂠  🂠  🂠  🂠  \n",
      "FOUNDATIONS : ♠ ♥ ♣ ♦ \n",
      "TABLEAUS    : \n",
      "A♠ \n",
      "🂠  2♠ \n",
      "🂠  🂠  3♠ \n",
      "🂠  🂠  🂠  4♠ \n",
      "🂠  🂠  🂠  🂠  5♠ \n",
      "🂠  🂠  🂠  🂠  🂠  6♠ \n",
      "🂠  🂠  🂠  🂠  🂠  🂠  7♠ \n",
      "TARGETS : A♠ 2♠ 3♠ 4♠ 5♠ 6♠ 7♠ ♠ ♥ ♣ ♦ \n",
      "SOURCES : A♠ 2♠ 3♠ 4♠ 5♠ 6♠ 7♠ 8♠ \n",
      "-1\n",
      "[9, 10, 11, 12, 13, 14, 15, 16, 17, 18, 19, 20, 21, 22, 23, 24, 25, 26, 27, 28, 29, 30, 31, 32, 33, 34, 35, 36, 37, 38, 39, 40, 41, 42, 43, 44, 45, 46, 47, 48, 49, 50, 51, 52]\n"
     ]
    }
   ],
   "source": [
    "# Playing the game: applying actions\n",
    "state.apply_action(8)\n",
    "print(state)\n",
    "print(state.current_player())\n",
    "print(state.legal_actions())"
   ]
  },
  {
   "cell_type": "code",
   "execution_count": 19,
   "id": "e5b1ff7c",
   "metadata": {},
   "outputs": [
    {
     "name": "stdout",
     "output_type": "stream",
     "text": [
      "WASTE       : 8♠ 9♠ 🂠  🂠  🂠  🂠  🂠  🂠  🂠  🂠  🂠  🂠  🂠  🂠  🂠  🂠  🂠  🂠  🂠  🂠  🂠  🂠  🂠  🂠  \n",
      "FOUNDATIONS : ♠ ♥ ♣ ♦ \n",
      "TABLEAUS    : \n",
      "A♠ \n",
      "🂠  2♠ \n",
      "🂠  🂠  3♠ \n",
      "🂠  🂠  🂠  4♠ \n",
      "🂠  🂠  🂠  🂠  5♠ \n",
      "🂠  🂠  🂠  🂠  🂠  6♠ \n",
      "🂠  🂠  🂠  🂠  🂠  🂠  7♠ \n",
      "TARGETS : A♠ 2♠ 3♠ 4♠ 5♠ 6♠ 7♠ ♠ ♥ ♣ ♦ \n",
      "SOURCES : A♠ 2♠ 3♠ 4♠ 5♠ 6♠ 7♠ 8♠ \n",
      "-1\n",
      "[10, 11, 12, 13, 14, 15, 16, 17, 18, 19, 20, 21, 22, 23, 24, 25, 26, 27, 28, 29, 30, 31, 32, 33, 34, 35, 36, 37, 38, 39, 40, 41, 42, 43, 44, 45, 46, 47, 48, 49, 50, 51, 52]\n"
     ]
    }
   ],
   "source": [
    "# Playing the game: applying actions\n",
    "state.apply_action(9)\n",
    "print(state)\n",
    "print(state.current_player())\n",
    "print(state.legal_actions())"
   ]
  },
  {
   "cell_type": "code",
   "execution_count": 42,
   "id": "76ac65a1",
   "metadata": {},
   "outputs": [
    {
     "name": "stdout",
     "output_type": "stream",
     "text": [
      "WASTE       : 8♠ 9♠ K♦ Q♦ J♦ T♦ 9♦ 8♦ 7♦ 6♦ 5♦ 4♦ 2♦ A♦ K♣ Q♣ J♣ T♣ 9♣ 8♣ 7♣ 6♣ 5♣ \n",
      "FOUNDATIONS : ♠ ♥ ♣ ♦ \n",
      "TABLEAUS    : \n",
      "A♠ \n",
      "🂠  2♠ \n",
      "🂠  🂠  3♠ \n",
      "🂠  🂠  🂠  4♠ 3♦ \n",
      "🂠  🂠  🂠  🂠  5♠ \n",
      "🂠  🂠  🂠  🂠  🂠  6♠ \n",
      "🂠  🂠  🂠  🂠  🂠  🂠  7♠ \n",
      "TARGETS : A♠ 2♠ 3♠ 3♦ 5♠ 6♠ 7♠ ♠ ♥ ♣ ♦ \n",
      "SOURCES : A♠ 2♠ 3♠ 4♠ 3♦ 5♠ 6♠ 7♠ 8♠ Q♦ 9♦ 6♦ 2♦ Q♣ 9♣ 6♣ \n",
      "0\n",
      "[58, 70, 156, 185]\n"
     ]
    }
   ],
   "source": [
    "# Playing the game: applying actions\n",
    "state.apply_action(61)\n",
    "print(state)\n",
    "print(state.current_player())\n",
    "print(state.legal_actions())"
   ]
  },
  {
   "cell_type": "code",
   "execution_count": 45,
   "id": "03aa6d49",
   "metadata": {},
   "outputs": [
    {
     "name": "stdout",
     "output_type": "stream",
     "text": [
      "WASTE       : 8♠ 9♠ K♦ Q♦ J♦ T♦ 9♦ 8♦ 7♦ 6♦ 5♦ 4♦ K♣ Q♣ J♣ T♣ 9♣ 8♣ 7♣ 6♣ 5♣ \n",
      "FOUNDATIONS : ♠ ♥ ♣ A♦ \n",
      "TABLEAUS    : \n",
      "A♠ \n",
      "🂠  2♠ \n",
      "🂠  🂠  3♠ 2♦ \n",
      "🂠  🂠  🂠  4♠ 3♦ \n",
      "🂠  🂠  🂠  🂠  5♠ \n",
      "🂠  🂠  🂠  🂠  🂠  6♠ \n",
      "🂠  🂠  🂠  🂠  🂠  🂠  7♠ \n",
      "TARGETS : A♠ 2♠ 2♦ 3♦ 5♠ 6♠ 7♠ ♠ ♥ ♣ A♦ \n",
      "SOURCES : A♠ 2♠ 3♠ 2♦ 4♠ 3♦ 5♠ 6♠ 7♠ A♦ 8♠ Q♦ 9♦ 6♦ K♣ T♣ 7♣ \n",
      "0\n",
      "[55, 70, 153, 156, 185, 196]\n"
     ]
    }
   ],
   "source": [
    "# Playing the game: applying actions\n",
    "state.apply_action(188)\n",
    "print(state)\n",
    "print(state.current_player())\n",
    "print(state.legal_actions())"
   ]
  },
  {
   "cell_type": "code",
   "execution_count": 49,
   "id": "f6fb0bf2",
   "metadata": {},
   "outputs": [
    {
     "name": "stdout",
     "output_type": "stream",
     "text": [
      "WASTE       : 8♠ 9♠ K♦ J♦ T♦ 9♦ 8♦ 7♦ 6♦ 5♦ 4♦ Q♣ J♣ T♣ 9♣ 8♣ 7♣ 6♣ 5♣ \n",
      "FOUNDATIONS : A♠ ♥ ♣ 2♦ \n",
      "TABLEAUS    : \n",
      "K♣ Q♦ \n",
      "🂠  2♠ \n",
      "🂠  🂠  3♠ \n",
      "🂠  🂠  🂠  4♠ 3♦ \n",
      "🂠  🂠  🂠  🂠  5♠ \n",
      "🂠  🂠  🂠  🂠  🂠  6♠ \n",
      "🂠  🂠  🂠  🂠  🂠  🂠  7♠ \n",
      "TARGETS : Q♦ 2♠ 3♠ 3♦ 5♠ 6♠ 7♠ A♠ ♥ ♣ 2♦ \n",
      "SOURCES : K♣ Q♦ 2♠ 3♠ 4♠ 3♦ 5♠ 6♠ 7♠ A♠ 2♦ 8♠ J♦ 8♦ 5♦ J♣ 8♣ 5♣ \n",
      "0\n",
      "[58, 67, 152, 156, 184, 193]\n"
     ]
    }
   ],
   "source": [
    "# Playing the game: applying actions\n",
    "state.apply_action(202)\n",
    "print(state)\n",
    "print(state.current_player())\n",
    "print(state.legal_actions())"
   ]
  },
  {
   "cell_type": "code",
   "execution_count": null,
   "id": "ed01a0c9",
   "metadata": {},
   "outputs": [],
   "source": []
  }
 ],
 "metadata": {
  "kernelspec": {
   "display_name": "Python 3 (ipykernel)",
   "language": "python",
   "name": "python3"
  },
  "language_info": {
   "codemirror_mode": {
    "name": "ipython",
    "version": 3
   },
   "file_extension": ".py",
   "mimetype": "text/x-python",
   "name": "python",
   "nbconvert_exporter": "python",
   "pygments_lexer": "ipython3",
   "version": "3.9.18"
  }
 },
 "nbformat": 4,
 "nbformat_minor": 5
}
